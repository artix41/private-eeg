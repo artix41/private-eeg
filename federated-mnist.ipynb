{
 "cells": [
  {
   "cell_type": "code",
   "execution_count": 1,
   "metadata": {},
   "outputs": [],
   "source": [
    "import torch\n",
    "from torch import nn, optim\n",
    "import torch.nn.functional as F\n",
    "import syft as sy\n",
    "import torchvision.datasets as datasets\n",
    "from torchvision import transforms\n",
    "import numpy as np\n",
    "import matplotlib.pyplot as plt\n",
    "%matplotlib inline\n",
    "import math\n",
    "\n",
    "from IPython.display import clear_output"
   ]
  },
  {
   "cell_type": "markdown",
   "metadata": {},
   "source": [
    "## Constants"
   ]
  },
  {
   "cell_type": "code",
   "execution_count": 2,
   "metadata": {},
   "outputs": [],
   "source": [
    "n_workers = 100\n",
    "n_workers_epoch = int(n_workers * 0.2)\n",
    "\n",
    "lr = 0.1\n",
    "batch_size = 16\n",
    "test_batch_size = 100"
   ]
  },
  {
   "cell_type": "markdown",
   "metadata": {},
   "source": [
    "## Load dataset"
   ]
  },
  {
   "cell_type": "code",
   "execution_count": 3,
   "metadata": {},
   "outputs": [],
   "source": [
    "def transform(X_mnist):\n",
    "    return X_mnist.view(-1, 28, 28).float() / 255"
   ]
  },
  {
   "cell_type": "code",
   "execution_count": 4,
   "metadata": {},
   "outputs": [],
   "source": [
    "def batch_list(l, batch_size):\n",
    "    return [l[i*batch_size:(i+1)*batch_size] for i in range(int(math.ceil(len(l) / batch_size)))]"
   ]
  },
  {
   "cell_type": "code",
   "execution_count": 5,
   "metadata": {},
   "outputs": [],
   "source": [
    "mnist_train = datasets.MNIST(root='./data', train=True, download=True, \n",
    "                             transform=None)\n",
    "mnist_test = datasets.MNIST(root='./data', train=False, download=True, \n",
    "                             transform=transforms.Compose([\n",
    "                                 transforms.ToTensor()                             \n",
    "                             ]))"
   ]
  },
  {
   "cell_type": "code",
   "execution_count": 6,
   "metadata": {},
   "outputs": [],
   "source": [
    "test_loader = torch.utils.data.DataLoader(\n",
    "    mnist_test,\n",
    "    batch_size=test_batch_size, shuffle=True)"
   ]
  },
  {
   "cell_type": "code",
   "execution_count": null,
   "metadata": {},
   "outputs": [],
   "source": [
    "train_loader = torch.utils.data.DataLoader(\n",
    "    mnist_train,\n",
    "    batch_size=test_batch_size, shuffle=True)"
   ]
  },
  {
   "cell_type": "code",
   "execution_count": 7,
   "metadata": {},
   "outputs": [],
   "source": [
    "n_samples_per_worker = len(mnist_train.targets) // n_workers\n",
    "n_samples_train = len(mnist_train.targets)"
   ]
  },
  {
   "cell_type": "markdown",
   "metadata": {},
   "source": [
    "## Put data on different workers"
   ]
  },
  {
   "cell_type": "markdown",
   "metadata": {},
   "source": [
    "### Declare the hook"
   ]
  },
  {
   "cell_type": "code",
   "execution_count": 8,
   "metadata": {},
   "outputs": [],
   "source": [
    "hook = sy.TorchHook(torch)"
   ]
  },
  {
   "cell_type": "markdown",
   "metadata": {},
   "source": [
    "### Declare the workers"
   ]
  },
  {
   "cell_type": "code",
   "execution_count": 9,
   "metadata": {},
   "outputs": [],
   "source": [
    "workers = [sy.VirtualWorker(hook, id=f\"bob{i}\") for i in range(n_workers)]"
   ]
  },
  {
   "cell_type": "markdown",
   "metadata": {},
   "source": [
    "### Move the data"
   ]
  },
  {
   "cell_type": "code",
   "execution_count": 10,
   "metadata": {},
   "outputs": [],
   "source": [
    "X_train_ptr_worker = [transform(mnist_train.data[n_samples_per_worker*i:n_samples_per_worker*(i+1)]).send(workers[i]) for i in range(n_workers)]\n",
    "Y_train_ptr_worker = [mnist_train.targets[n_samples_per_worker*i:n_samples_per_worker*(i+1)].send(workers[i]) for i in range(n_workers)]"
   ]
  },
  {
   "cell_type": "code",
   "execution_count": 11,
   "metadata": {},
   "outputs": [
    {
     "data": {
      "text/plain": [
       "torch.Size([600, 28, 28])"
      ]
     },
     "execution_count": 11,
     "metadata": {},
     "output_type": "execute_result"
    }
   ],
   "source": [
    "X_train_ptr_worker[0].shape"
   ]
  },
  {
   "cell_type": "markdown",
   "metadata": {},
   "source": [
    "## Create model"
   ]
  },
  {
   "cell_type": "code",
   "execution_count": 12,
   "metadata": {},
   "outputs": [],
   "source": [
    "class Net(nn.Module):\n",
    "    def __init__(self):\n",
    "        super(Net, self).__init__()\n",
    "        self.conv1 = nn.Conv2d(1, 20, 5, 1)\n",
    "        self.conv2 = nn.Conv2d(20, 50, 5, 1)\n",
    "        self.fc1 = nn.Linear(4*4*50, 500)\n",
    "        self.fc2 = nn.Linear(500, 10)\n",
    "\n",
    "    def forward(self, x):\n",
    "        x = x.view(-1, 1, 28, 28)\n",
    "        x = self.conv1(x)\n",
    "        x = F.relu(x)\n",
    "        x = F.max_pool2d(x, 2, 2)\n",
    "        x = F.relu(self.conv2(x))\n",
    "        x = F.max_pool2d(x, 2, 2)\n",
    "        x = x.view(-1, 4*4*50)\n",
    "        x = F.relu(self.fc1(x))\n",
    "        x = self.fc2(x)\n",
    "        return F.log_softmax(x, dim=1)"
   ]
  },
  {
   "cell_type": "code",
   "execution_count": 13,
   "metadata": {},
   "outputs": [],
   "source": [
    "loss_fn = torch.nn.NLLLoss()"
   ]
  },
  {
   "cell_type": "markdown",
   "metadata": {},
   "source": [
    "## Train the model"
   ]
  },
  {
   "cell_type": "code",
   "execution_count": 14,
   "metadata": {},
   "outputs": [],
   "source": [
    "lr = 0.1"
   ]
  },
  {
   "cell_type": "code",
   "execution_count": 44,
   "metadata": {},
   "outputs": [],
   "source": [
    "model = Net()\n",
    "model_worker = [model.copy() for _ in range(n_workers)] # Important: starting from the same initialization\n",
    "opt_worker = [optim.SGD(params=model_worker[i].parameters(), lr=lr) for i in range(n_workers)]\n",
    "\n",
    "list_loss_worker = [list() for _ in range(n_workers)]"
   ]
  },
  {
   "cell_type": "code",
   "execution_count": 41,
   "metadata": {},
   "outputs": [
    {
     "name": "stdout",
     "output_type": "stream",
     "text": [
      "Epoch 10/10\n",
      "Worker 20/20\n",
      "Batch 37 / 37: 0.4889\n",
      "Location <VirtualWorker id:bob78 #objects:6>\n"
     ]
    }
   ],
   "source": [
    "n_epochs = 20\n",
    "n_local_epochs = 1\n",
    "\n",
    "for i_epoch in range(n_epochs):\n",
    "    sample_indices = list(np.random.permutation(range(n_samples_per_worker)))\n",
    "    \n",
    "    list_workers_epoch = np.random.choice(range(n_workers), n_workers_epoch, replace=False)\n",
    "    for i_worker, worker_index in enumerate(list_workers_epoch):\n",
    "        loss_worker = 0\n",
    "        i_iter = 0\n",
    "        \n",
    "        # Update client\n",
    "        for i_local_epoch in range(n_local_epochs):  # n_local_epochs=E\n",
    "            list_batch_indices = batch_list(sample_indices, batch_size)\n",
    "            for i_batch, batch_indices in enumerate(list_batch_indices):\n",
    "                batch_indices_tensor = torch.tensor(batch_indices).send(workers[worker_index])\n",
    "                X_ptr = X_train_ptr_worker[worker_index][batch_indices, :, :]\n",
    "                Y_ptr = Y_train_ptr_worker[worker_index].gather(0, batch_indices_tensor)\n",
    "                model_worker[worker_index] = model_worker[worker_index].send(X_ptr.location)\n",
    "\n",
    "                pred = model_worker[worker_index](X_ptr)\n",
    "                loss = loss_fn(pred, Y_ptr)\n",
    "\n",
    "                opt_worker[worker_index].zero_grad()\n",
    "                loss.backward()\n",
    "                opt_worker[worker_index].step()\n",
    "\n",
    "                model_worker[worker_index] = model_worker[worker_index].get()\n",
    "                loss_worker += loss.get().data.numpy()\n",
    "                i_iter += 1\n",
    "\n",
    "                clear_output(wait=True)\n",
    "                print(f\"Epoch {i_epoch + 1}/{n_epochs}\")\n",
    "                print(f\"Worker {i_worker+1}/{n_workers_epoch}\")\n",
    "                print(f\"Batch {i_batch} / {len(mnist_train.data) // n_workers // batch_size}: {loss_worker / (i_iter):.4f}\")\n",
    "                print(f\"Location {X_ptr.location}\")\n",
    "                del batch_indices_tensor\n",
    "\n",
    "    # Update global model\n",
    "    with torch.no_grad():\n",
    "        for params in zip(*(model_worker[i].parameters() for i in range(n_workers))):\n",
    "            new_param = torch.mean(torch.stack(params), axis=0)\n",
    "            for param in params:\n",
    "                param.set_(new_param)\n",
    "                \n",
    "    # Test global model\n",
    "    "
   ]
  },
  {
   "cell_type": "markdown",
   "metadata": {},
   "source": [
    "## Test the model"
   ]
  },
  {
   "cell_type": "code",
   "execution_count": 42,
   "metadata": {},
   "outputs": [
    {
     "name": "stdout",
     "output_type": "stream",
     "text": [
      "Accuracy: 9038/10000 (90%)\n",
      "\n"
     ]
    }
   ],
   "source": [
    "model_worker[0].eval()\n",
    "correct = 0\n",
    "for X, Y in test_loader:\n",
    "    output = model_worker[0](X)\n",
    "    pred = output.argmax(1, keepdim=True)\n",
    "    correct += pred.eq(Y.view_as(pred)).sum().item()\n",
    "\n",
    "print('Accuracy: {}/{} ({:.0f}%)\\n'.format(\n",
    "    correct, len(test_loader.dataset),\n",
    "    100. * correct / len(test_loader.dataset)))"
   ]
  },
  {
   "cell_type": "code",
   "execution_count": null,
   "metadata": {},
   "outputs": [],
   "source": []
  },
  {
   "cell_type": "markdown",
   "metadata": {},
   "source": [
    "## Clean everything (in case)"
   ]
  },
  {
   "cell_type": "code",
   "execution_count": 34,
   "metadata": {},
   "outputs": [],
   "source": [
    "for i in range(n_workers):\n",
    "    workers[i].clear_objects()"
   ]
  },
  {
   "cell_type": "code",
   "execution_count": 35,
   "metadata": {},
   "outputs": [],
   "source": [
    "X_train_ptr_worker = [transform(mnist_train.data[n_samples_per_worker*i:n_samples_per_worker*(i+1)]).send(workers[i]) for i in range(n_workers)]\n",
    "Y_train_ptr_worker = [mnist_train.targets[n_samples_per_worker*i:n_samples_per_worker*(i+1)].send(workers[i]) for i in range(n_workers)]"
   ]
  },
  {
   "cell_type": "code",
   "execution_count": 36,
   "metadata": {},
   "outputs": [],
   "source": [
    "model_worker = [Net() for _ in range(n_workers)]\n",
    "opt_worker = [optim.SGD(params=model_worker[i].parameters(), lr=lr) for i in range(n_workers)]"
   ]
  },
  {
   "cell_type": "code",
   "execution_count": null,
   "metadata": {},
   "outputs": [],
   "source": []
  }
 ],
 "metadata": {
  "kernelspec": {
   "display_name": "Python 3",
   "language": "python",
   "name": "python3"
  },
  "language_info": {
   "codemirror_mode": {
    "name": "ipython",
    "version": 3
   },
   "file_extension": ".py",
   "mimetype": "text/x-python",
   "name": "python",
   "nbconvert_exporter": "python",
   "pygments_lexer": "ipython3",
   "version": "3.7.6"
  }
 },
 "nbformat": 4,
 "nbformat_minor": 4
}
